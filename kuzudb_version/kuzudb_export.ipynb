{
 "cells": [
  {
   "cell_type": "markdown",
   "id": "9bd4ddbc-b8c4-44dc-9d96-1134b857e092",
   "metadata": {},
   "source": [
    "We make sure the export statements are generated through the dbt project. Just scan edge/node files."
   ]
  },
  {
   "cell_type": "code",
   "execution_count": 1,
   "id": "c0f1d7c5-907f-4989-a6ab-4aaa0d0def7e",
   "metadata": {},
   "outputs": [
    {
     "name": "stdout",
     "output_type": "stream",
     "text": [
      "C:\\work\\omdb_graphdb_article\\kuzudb_version\\export_elt\\gold_business_graph_edge_category_has_parent.json\n",
      "C:\\work\\omdb_graphdb_article\\kuzudb_version\\export_elt\\gold_business_graph_edge_category_has_root.json\n",
      "C:\\work\\omdb_graphdb_article\\kuzudb_version\\export_elt\\gold_business_graph_edge_content_has_cast.json\n",
      "C:\\work\\omdb_graphdb_article\\kuzudb_version\\export_elt\\gold_business_graph_edge_content_has_category.json\n",
      "C:\\work\\omdb_graphdb_article\\kuzudb_version\\export_elt\\gold_business_graph_edge_content_has_keyword.json\n",
      "C:\\work\\omdb_graphdb_article\\kuzudb_version\\export_elt\\gold_business_graph_edge_episode_has_season.json\n",
      "C:\\work\\omdb_graphdb_article\\kuzudb_version\\export_elt\\gold_business_graph_edge_episode_has_series.json\n",
      "C:\\work\\omdb_graphdb_article\\kuzudb_version\\export_elt\\gold_business_graph_edge_job_has_cast.json\n",
      "C:\\work\\omdb_graphdb_article\\kuzudb_version\\export_elt\\gold_business_graph_edge_movie_has_movieseries.json\n",
      "C:\\work\\omdb_graphdb_article\\kuzudb_version\\export_elt\\gold_business_graph_edge_person_has_cast.json\n",
      "C:\\work\\omdb_graphdb_article\\kuzudb_version\\export_elt\\gold_business_graph_edge_season_has_series.json\n",
      "C:\\work\\omdb_graphdb_article\\kuzudb_version\\export_elt\\gold_business_graph_edge_series_has_movieseries.json\n",
      "C:\\work\\omdb_graphdb_article\\kuzudb_version\\export_elt\\gold_business_graph_node_cast.json\n",
      "C:\\work\\omdb_graphdb_article\\kuzudb_version\\export_elt\\gold_business_graph_node_category.json\n",
      "C:\\work\\omdb_graphdb_article\\kuzudb_version\\export_elt\\gold_business_graph_node_character.json\n",
      "C:\\work\\omdb_graphdb_article\\kuzudb_version\\export_elt\\gold_business_graph_node_content.json\n",
      "C:\\work\\omdb_graphdb_article\\kuzudb_version\\export_elt\\gold_business_graph_node_image.json\n",
      "C:\\work\\omdb_graphdb_article\\kuzudb_version\\export_elt\\gold_business_graph_node_job.json\n",
      "C:\\work\\omdb_graphdb_article\\kuzudb_version\\export_elt\\gold_business_graph_node_person.json\n"
     ]
    }
   ],
   "source": [
    "import pathlib\n",
    "\n",
    "WHERE_IS_DBT_PROJECT_SQLS = \"../../omdb_manual_dataset/omdb_dbt_project/models/gold_business_graph/*.sql\"\n",
    "\n",
    "table_names = [f.name.split('.')[0] for f in pathlib.Path().glob(WHERE_IS_DBT_PROJECT_SQLS)]\n",
    "\n",
    "WHERE_TO_EXPORT_CSV_FILES = 'C:/work/omdb_graphdb_article/kuzudb_version/export_elt'\n",
    "\n",
    "p = pathlib.Path(WHERE_TO_EXPORT_CSV_FILES)\n",
    "p.mkdir(exist_ok=True)\n",
    "\n",
    "for json_file in p.glob('*.json'):\n",
    "    print(json_file)\n",
    "    json_file.unlink()\n"
   ]
  },
  {
   "cell_type": "code",
   "execution_count": 2,
   "id": "fb858e88-bea1-464c-b061-49ae1019eda8",
   "metadata": {},
   "outputs": [
    {
     "data": {
      "text/plain": [
       "['gold_business_graph_edge_category_has_parent',\n",
       " 'gold_business_graph_edge_category_has_root',\n",
       " 'gold_business_graph_edge_content_has_cast',\n",
       " 'gold_business_graph_edge_content_has_category',\n",
       " 'gold_business_graph_edge_content_has_keyword',\n",
       " 'gold_business_graph_edge_episode_has_season',\n",
       " 'gold_business_graph_edge_episode_has_series',\n",
       " 'gold_business_graph_edge_job_has_cast',\n",
       " 'gold_business_graph_edge_movie_has_movieseries',\n",
       " 'gold_business_graph_edge_person_has_cast',\n",
       " 'gold_business_graph_edge_season_has_series',\n",
       " 'gold_business_graph_edge_series_has_movieseries',\n",
       " 'gold_business_graph_node_cast',\n",
       " 'gold_business_graph_node_category',\n",
       " 'gold_business_graph_node_character',\n",
       " 'gold_business_graph_node_content',\n",
       " 'gold_business_graph_node_image',\n",
       " 'gold_business_graph_node_job',\n",
       " 'gold_business_graph_node_person']"
      ]
     },
     "execution_count": 2,
     "metadata": {},
     "output_type": "execute_result"
    }
   ],
   "source": [
    "table_names"
   ]
  },
  {
   "cell_type": "markdown",
   "id": "e1454524-5708-4c65-a784-40eaafafd1e3",
   "metadata": {},
   "source": [
    "We export to json node/edge tables"
   ]
  },
  {
   "cell_type": "code",
   "execution_count": 3,
   "id": "5aa4f08d",
   "metadata": {},
   "outputs": [
    {
     "name": "stdout",
     "output_type": "stream",
     "text": [
      "Requirement already satisfied: psycopg2-binary in c:\\work\\omdb_graphdb_article\\.venv\\lib\\site-packages (2.9.10)\n"
     ]
    }
   ],
   "source": [
    "!python -m pip install psycopg2-binary"
   ]
  },
  {
   "cell_type": "code",
   "execution_count": 4,
   "id": "21e47b9e",
   "metadata": {},
   "outputs": [
    {
     "name": "stdout",
     "output_type": "stream",
     "text": [
      "processing gold_business_graph_edge_category_has_parent\n",
      "processing gold_business_graph_edge_category_has_root\n",
      "processing gold_business_graph_edge_content_has_cast\n",
      "processing gold_business_graph_edge_content_has_category\n",
      "processing gold_business_graph_edge_content_has_keyword\n",
      "processing gold_business_graph_edge_episode_has_season\n",
      "processing gold_business_graph_edge_episode_has_series\n",
      "processing gold_business_graph_edge_job_has_cast\n",
      "processing gold_business_graph_edge_movie_has_movieseries\n",
      "processing gold_business_graph_edge_person_has_cast\n",
      "processing gold_business_graph_edge_season_has_series\n",
      "processing gold_business_graph_edge_series_has_movieseries\n",
      "processing gold_business_graph_node_cast\n",
      "processing gold_business_graph_node_category\n",
      "processing gold_business_graph_node_character\n",
      "processing gold_business_graph_node_content\n",
      "processing gold_business_graph_node_image\n",
      "processing gold_business_graph_node_job\n",
      "processing gold_business_graph_node_person\n"
     ]
    }
   ],
   "source": [
    "import psycopg2\n",
    "import io\n",
    "# Connect to an existing database\n",
    "\n",
    "for table_name in table_names:\n",
    "\n",
    "  print(\"processing \"+table_name)\n",
    "\n",
    "  sql_query = f\"\"\"\n",
    "  COPY (\n",
    "    SELECT row_to_json(temp_data) FROM (\n",
    "      SELECT\n",
    "        *\n",
    "      FROM dbt.{table_name}\n",
    "    ) temp_data\n",
    "  ) TO STDOUT;\n",
    "  \"\"\"\n",
    "  with psycopg2.connect(\"dbname=postgres user=postgres password=postgres\") as conn:\n",
    "      with conn.cursor() as cur:\n",
    "        with io.StringIO() as f:\n",
    "          cur.copy_expert(sql_query, f)\n",
    "          contents = f.getvalue()\n",
    "        result = \"[\"+(\",\".join(contents.split(\"\\n\")))\n",
    "        result = result[:-1]+\"]\"\n",
    "\n",
    "  with open(f\"{WHERE_TO_EXPORT_CSV_FILES}/{table_name}.json\", \"w\", encoding=\"utf8\") as ffile:\n",
    "    ffile.write(result)\n",
    "\n",
    "\n"
   ]
  },
  {
   "cell_type": "code",
   "execution_count": null,
   "id": "63e45632",
   "metadata": {},
   "outputs": [],
   "source": []
  }
 ],
 "metadata": {
  "kernelspec": {
   "display_name": ".venv",
   "language": "python",
   "name": "python3"
  },
  "language_info": {
   "codemirror_mode": {
    "name": "ipython",
    "version": 3
   },
   "file_extension": ".py",
   "mimetype": "text/x-python",
   "name": "python",
   "nbconvert_exporter": "python",
   "pygments_lexer": "ipython3",
   "version": "3.12.7"
  }
 },
 "nbformat": 4,
 "nbformat_minor": 5
}
