{
 "cells": [
  {
   "cell_type": "markdown",
   "id": "5a885654-178b-48b6-963f-8406b2d629fd",
   "metadata": {},
   "source": [
    "We install here the required dependencies"
   ]
  },
  {
   "cell_type": "code",
   "execution_count": 1,
   "id": "452d403f-a92d-43aa-9e46-b2e4306e7304",
   "metadata": {},
   "outputs": [
    {
     "name": "stdout",
     "output_type": "stream",
     "text": [
      "Requirement already satisfied: kuzu in c:\\work\\omdb_graphdb_article\\.venv\\lib\\site-packages (0.6.1)\n"
     ]
    }
   ],
   "source": [
    "!python -m pip install kuzu"
   ]
  },
  {
   "cell_type": "code",
   "execution_count": 2,
   "id": "76d20366-e6dd-449e-b6d5-487dedb28d71",
   "metadata": {},
   "outputs": [
    {
     "data": {
      "text/plain": [
       "[<kuzu.query_result.QueryResult at 0x25cfc95d3a0>,\n",
       " <kuzu.query_result.QueryResult at 0x25cfc95cd70>]"
      ]
     },
     "execution_count": 2,
     "metadata": {},
     "output_type": "execute_result"
    }
   ],
   "source": [
    "import kuzu\n",
    "\n",
    "db = kuzu.Database('./kuzudb_elt')\n",
    "\n",
    "conn = kuzu.Connection(db)\n",
    "\n",
    "load_json_extension = \"\"\"\n",
    "INSTALL json;\n",
    "LOAD EXTENSION json;\n",
    "\"\"\"\n",
    "\n",
    "conn.execute(load_json_extension)"
   ]
  },
  {
   "cell_type": "markdown",
   "id": "f0b5810d-bdcf-4e87-baae-115b23fae03f",
   "metadata": {},
   "source": [
    "Let's drop the old edges and then nodes (if they exist)"
   ]
  },
  {
   "cell_type": "code",
   "execution_count": 3,
   "id": "45c681d0-d593-4b91-a7d8-05c0a8bec979",
   "metadata": {},
   "outputs": [
    {
     "name": "stdout",
     "output_type": "stream",
     "text": [
      "DROPPING OMDB_BUSINESS_CATEGORY_HAS_ROOT\n",
      "DROPPING OMDB_BUSINESS_SERIES_HAS_MOVIESERIES\n",
      "DROPPING OMDB_BUSINESS_SEASON_HAS_SERIES\n",
      "DROPPING OMDB_BUSINESS_CATEGORY_HAS_PARENT\n",
      "DROPPING OMDB_BUSINESS_CONTENT_HAS_CAST\n",
      "DROPPING OMDB_BUSINESS_CONTENT_HAS_CATEGORY\n",
      "DROPPING OMDB_BUSINESS_CONTENT_HAS_KEYWORD\n",
      "DROPPING OMDB_BUSINESS_EPISODE_HAS_SEASON\n",
      "DROPPING OMDB_BUSINESS_EPISODE_HAS_SERIES\n",
      "DROPPING OMDB_BUSINESS_MOVIE_HAS_MOVIESERIES\n",
      "DROPPING OMDB_BUSINESS_PERSON_HAS_CAST\n",
      "DROPPING OMDB_BUSINESS_JOB\n",
      "DROPPING OMDB_BUSINESS_CATEGORY\n",
      "DROPPING OMDB_BUSINESS_CAST\n",
      "DROPPING OMDB_BUSINESS_CHARACTER\n",
      "DROPPING OMDB_BUSINESS_PERSON\n",
      "DROPPING OMDB_BUSINESS_CONTENT\n",
      "DROPPING OMDB_BUSINESS_IMAGE\n"
     ]
    }
   ],
   "source": [
    "SHOW_EDGE_TABLES = \"\"\"\n",
    "CALL SHOW_TABLES() WHERE type='REL' RETURN *;\n",
    "\"\"\"\n",
    "result_set = conn.execute(SHOW_EDGE_TABLES)\n",
    "while result_set.has_next():\n",
    "    table_name = result_set.get_next()[0]\n",
    "    print(f\"DROPPING {table_name}\")\n",
    "    conn.execute(f\"DROP TABLE {table_name};\")\n",
    "\n",
    "result_set.close()\n",
    "\n",
    "SHOW_NODE_TABLES = \"\"\"\n",
    "CALL SHOW_TABLES() WHERE type='NODE' RETURN *;\n",
    "\"\"\"\n",
    "result_set = conn.execute(SHOW_NODE_TABLES)\n",
    "while result_set.has_next():\n",
    "    table_name = result_set.get_next()[0]\n",
    "    print(f\"DROPPING {table_name}\")\n",
    "    conn.execute(f\"DROP TABLE {table_name};\")\n",
    "\n",
    "result_set.close()"
   ]
  },
  {
   "cell_type": "markdown",
   "id": "22aa0b5d-4754-4742-b665-663148942f27",
   "metadata": {},
   "source": [
    "Now we load the nodes."
   ]
  },
  {
   "cell_type": "code",
   "execution_count": 4,
   "id": "bf3ce293-1cc1-4c37-9106-5907825baf94",
   "metadata": {},
   "outputs": [
    {
     "name": "stdout",
     "output_type": "stream",
     "text": [
      "Executing statement CREATE NODE TABLE OMDB_BUSINESS_CAST(cast_id STRING, roles STRING[], PRIMARY KEY (cast_id));\n",
      "\n",
      "Executing statement CREATE NODE TABLE OMDB_BUSINESS_CATEGORY(category_id INT64, parent_id INT64, root_id INT64, names STRUCT(name STRING, language_iso_639_1 STRING)[], PRIMARY KEY (category_id));\n",
      "\n",
      "Executing statement CREATE NODE TABLE OMDB_BUSINESS_CHARACTER(id INT64, name STRING, PRIMARY KEY (id));\n",
      "\n",
      "Executing statement CREATE NODE TABLE OMDB_BUSINESS_CONTENT(content_id INT64, date DATE, content_type STRING, runtime INT64, revenue INT64, budget INT64, homepage STRING, vote_average FLOAT, votes_count INT64, last_update TIMESTAMP, countries STRING[],  abstracts STRUCT(abstract STRING, language_iso_639_1 STRING)[], content_links STRUCT(source STRING, key STRING, language_iso_639_1 STRING)[], refs STRUCT(type STRING, referenced_id INT64)[], trailers STRUCT(source STRING, key STRING, language_iso_639_1 STRING)[], aliasings STRUCT(name STRING, language_iso_639_1 STRING)[], PRIMARY KEY (content_id));\n",
      "\n",
      "Executing statement CREATE NODE TABLE OMDB_BUSINESS_IMAGE(image_id INT64, object_id INT64, object_type STRING, image_version INT32, license_id INT64, source STRING, author STRING, PRIMARY KEY (image_id));\n",
      "\n",
      "Executing statement CREATE NODE TABLE OMDB_BUSINESS_JOB(job_id INT64, names STRUCT(name STRING, language_iso_639_1 STRING)[], PRIMARY KEY (job_id));\n",
      "\n",
      "Executing statement CREATE NODE TABLE OMDB_BUSINESS_PERSON(person_id INT64, name STRING, birthday DATE, deathday DATE, gender STRING, aliases STRING[], PRIMARY KEY (person_id));\n",
      "Executing statement COPY OMDB_BUSINESS_CAST FROM \"./export_elt/gold_business_graph_node_cast.json\"\n",
      "\n",
      "Executing statement COPY OMDB_BUSINESS_CATEGORY FROM \"./export_elt/gold_business_graph_node_category.json\"\n",
      "\n",
      "Executing statement COPY OMDB_BUSINESS_CHARACTER FROM \"./export_elt/gold_business_graph_node_character.json\"\n",
      "\n",
      "Executing statement COPY OMDB_BUSINESS_CONTENT FROM \"./export_elt/gold_business_graph_node_content.json\"\n",
      "\n",
      "Executing statement COPY OMDB_BUSINESS_IMAGE FROM \"./export_elt/gold_business_graph_node_image.json\"\n",
      "\n",
      "Executing statement COPY OMDB_BUSINESS_JOB FROM \"./export_elt/gold_business_graph_node_job.json\"\n",
      "\n",
      "Executing statement COPY OMDB_BUSINESS_PERSON FROM \"./export_elt/gold_business_graph_node_person.json\"\n"
     ]
    }
   ],
   "source": [
    "with open('dml_statements/elt_kuzudb_node_schema.sql') as f:\n",
    "    creation_lines = [line for line in f]\n",
    "\n",
    "with open('dml_statements/elt_kuzudb_node_import.sql') as f:\n",
    "    import_lines = [line for line in f]\n",
    "    \n",
    "\n",
    "#do not forget the primary keys for seeds\n",
    "\n",
    "    \n",
    "for line in creation_lines:\n",
    "    print(f\"Executing statement {line}\")\n",
    "    conn.execute(line)\n",
    "\n",
    "for line in import_lines:\n",
    "    print(f\"Executing statement {line}\")\n",
    "    conn.execute(line)"
   ]
  },
  {
   "cell_type": "markdown",
   "id": "e45b6919-9c52-4313-bd17-880da51c91f9",
   "metadata": {},
   "source": [
    "Now we load the relationships."
   ]
  },
  {
   "cell_type": "code",
   "execution_count": 5,
   "id": "f5ffe483-6d78-40ef-b278-3568445bde6c",
   "metadata": {},
   "outputs": [
    {
     "name": "stdout",
     "output_type": "stream",
     "text": [
      "Executing statement CREATE REL TABLE OMDB_BUSINESS_CATEGORY_HAS_PARENT(FROM OMDB_BUSINESS_CATEGORY TO OMDB_BUSINESS_CATEGORY);\n",
      "\n",
      "Executing statement CREATE REL TABLE OMDB_BUSINESS_CATEGORY_HAS_ROOT(FROM OMDB_BUSINESS_CATEGORY TO OMDB_BUSINESS_CATEGORY);\n",
      "\n",
      "Executing statement CREATE REL TABLE OMDB_BUSINESS_CONTENT_HAS_CAST(FROM OMDB_BUSINESS_CONTENT TO OMDB_BUSINESS_CAST);\n",
      "\n",
      "Executing statement CREATE REL TABLE OMDB_BUSINESS_CONTENT_HAS_CATEGORY(FROM OMDB_BUSINESS_CONTENT TO OMDB_BUSINESS_CATEGORY);\n",
      "\n",
      "Executing statement CREATE REL TABLE OMDB_BUSINESS_CONTENT_HAS_KEYWORD(FROM OMDB_BUSINESS_CONTENT TO OMDB_BUSINESS_CATEGORY);\n",
      "\n",
      "Executing statement CREATE REL TABLE OMDB_BUSINESS_EPISODE_HAS_SEASON(FROM OMDB_BUSINESS_CONTENT TO OMDB_BUSINESS_CONTENT);\n",
      "\n",
      "Executing statement CREATE REL TABLE OMDB_BUSINESS_EPISODE_HAS_SERIES(FROM OMDB_BUSINESS_CONTENT TO OMDB_BUSINESS_CONTENT);\n",
      "\n",
      "Executing statement CREATE REL TABLE OMDB_BUSINESS_MOVIE_HAS_MOVIESERIES(FROM OMDB_BUSINESS_CONTENT TO OMDB_BUSINESS_CONTENT);\n",
      "\n",
      "Executing statement CREATE REL TABLE OMDB_BUSINESS_PERSON_HAS_CAST(FROM OMDB_BUSINESS_PERSON TO OMDB_BUSINESS_CAST);\n",
      "\n",
      "Executing statement CREATE REL TABLE OMDB_BUSINESS_SEASON_HAS_SERIES(FROM OMDB_BUSINESS_CONTENT TO OMDB_BUSINESS_CONTENT);\n",
      "\n",
      "Executing statement CREATE REL TABLE OMDB_BUSINESS_SERIES_HAS_MOVIESERIES(FROM OMDB_BUSINESS_CONTENT TO OMDB_BUSINESS_CONTENT);\n",
      "Executing statement COPY OMDB_BUSINESS_CATEGORY_HAS_PARENT FROM \"./export_elt/gold_business_graph_edge_category_has_parent.json\"\n",
      "\n",
      "Executing statement COPY OMDB_BUSINESS_CATEGORY_HAS_ROOT FROM \"./export_elt/gold_business_graph_edge_category_has_root.json\"\n",
      "\n",
      "Executing statement COPY OMDB_BUSINESS_CONTENT_HAS_CAST FROM \"./export_elt/gold_business_graph_edge_content_has_cast.json\"\n",
      "\n",
      "Executing statement COPY OMDB_BUSINESS_CONTENT_HAS_CATEGORY FROM \"./export_elt/gold_business_graph_edge_content_has_category.json\"\n",
      "\n",
      "Executing statement COPY OMDB_BUSINESS_CONTENT_HAS_KEYWORD FROM \"./export_elt/gold_business_graph_edge_content_has_keyword.json\"\n",
      "\n",
      "Executing statement COPY OMDB_BUSINESS_EPISODE_HAS_SEASON FROM \"./export_elt/gold_business_graph_edge_episode_has_season.json\"\n",
      "\n",
      "Executing statement COPY OMDB_BUSINESS_EPISODE_HAS_SERIES FROM \"./export_elt/gold_business_graph_edge_episode_has_series.json\"\n",
      "\n",
      "Executing statement COPY OMDB_BUSINESS_MOVIE_HAS_MOVIESERIES FROM \"./export_elt/gold_business_graph_edge_movie_has_movieseries.json\"\n",
      "\n",
      "Executing statement COPY OMDB_BUSINESS_PERSON_HAS_CAST FROM \"./export_elt/gold_business_graph_edge_person_has_cast.json\"\n",
      "\n",
      "Executing statement COPY OMDB_BUSINESS_SEASON_HAS_SERIES FROM \"./export_elt/gold_business_graph_edge_season_has_series.json\"\n",
      "\n",
      "Executing statement COPY OMDB_BUSINESS_SERIES_HAS_MOVIESERIES FROM \"./export_elt/gold_business_graph_edge_series_has_movieseries.json\"\n"
     ]
    }
   ],
   "source": [
    "with open('dml_statements/elt_kuzudb_rel_schema.sql') as f:\n",
    "    creation_lines = [line for line in f]\n",
    "\n",
    "with open('dml_statements/elt_kuzudb_rel_import.sql') as f:\n",
    "    import_lines = [line for line in f]\n",
    "    \n",
    "\n",
    "#do not forget the primary keys for seeds\n",
    "\n",
    "    \n",
    "for line in creation_lines:\n",
    "    print(f\"Executing statement {line}\")\n",
    "    conn.execute(line)\n",
    "\n",
    "for line in import_lines:\n",
    "    print(f\"Executing statement {line}\")\n",
    "    conn.execute(line)"
   ]
  }
 ],
 "metadata": {
  "kernelspec": {
   "display_name": ".venv",
   "language": "python",
   "name": "python3"
  },
  "language_info": {
   "codemirror_mode": {
    "name": "ipython",
    "version": 3
   },
   "file_extension": ".py",
   "mimetype": "text/x-python",
   "name": "python",
   "nbconvert_exporter": "python",
   "pygments_lexer": "ipython3",
   "version": "3.12.7"
  }
 },
 "nbformat": 4,
 "nbformat_minor": 5
}
