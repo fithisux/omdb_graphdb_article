{
 "cells": [
  {
   "cell_type": "markdown",
   "id": "5a885654-178b-48b6-963f-8406b2d629fd",
   "metadata": {},
   "source": [
    "We install here the required dependencies"
   ]
  },
  {
   "cell_type": "code",
   "execution_count": 21,
   "id": "452d403f-a92d-43aa-9e46-b2e4306e7304",
   "metadata": {},
   "outputs": [
    {
     "name": "stdout",
     "output_type": "stream",
     "text": [
      "Requirement already satisfied: kuzu in c:\\work\\omdb_graphdb_article\\.venv\\lib\\site-packages (0.6.1)\n"
     ]
    }
   ],
   "source": [
    "!python -m pip install kuzu"
   ]
  },
  {
   "cell_type": "code",
   "execution_count": 22,
   "id": "76d20366-e6dd-449e-b6d5-487dedb28d71",
   "metadata": {},
   "outputs": [],
   "source": [
    "import kuzu\n",
    "\n",
    "db = kuzu.Database('./kuzudb_elt')\n",
    "conn = kuzu.Connection(db)"
   ]
  },
  {
   "cell_type": "markdown",
   "id": "f0b5810d-bdcf-4e87-baae-115b23fae03f",
   "metadata": {},
   "source": [
    "Let's drop the old edges and then nodes (if they exist)"
   ]
  },
  {
   "cell_type": "code",
   "execution_count": 23,
   "id": "45c681d0-d593-4b91-a7d8-05c0a8bec979",
   "metadata": {},
   "outputs": [
    {
     "name": "stdout",
     "output_type": "stream",
     "text": [
      "DROPPING OMDB_BUSINESS_CATEGORY\n",
      "DROPPING OMDB_BUSINESS_JOB\n",
      "DROPPING OMDB_BUSINESS_MOVIE\n",
      "DROPPING OMDB_BUSINESS_MOVIESERIES\n",
      "DROPPING OMDB_BUSINESS_CAST\n",
      "DROPPING OMDB_BUSINESS_CHARACTER\n",
      "DROPPING OMDB_BUSINESS_EPISODE\n",
      "DROPPING OMDB_BUSINESS_IMAGE\n"
     ]
    }
   ],
   "source": [
    "SHOW_EDGE_TABLES = \"\"\"\n",
    "CALL SHOW_TABLES() WHERE type='REL' RETURN *;\n",
    "\"\"\"\n",
    "result_set = conn.execute(SHOW_EDGE_TABLES)\n",
    "while result_set.has_next():\n",
    "    table_name = result_set.get_next()[0]\n",
    "    print(f\"DROPPING {table_name}\")\n",
    "    conn.execute(f\"DROP TABLE {table_name};\")\n",
    "\n",
    "result_set.close()\n",
    "\n",
    "SHOW_NODE_TABLES = \"\"\"\n",
    "CALL SHOW_TABLES() WHERE type='NODE' RETURN *;\n",
    "\"\"\"\n",
    "result_set = conn.execute(SHOW_NODE_TABLES)\n",
    "while result_set.has_next():\n",
    "    table_name = result_set.get_next()[0]\n",
    "    print(f\"DROPPING {table_name}\")\n",
    "    conn.execute(f\"DROP TABLE {table_name};\")\n",
    "\n",
    "result_set.close()"
   ]
  },
  {
   "cell_type": "markdown",
   "id": "22aa0b5d-4754-4742-b665-663148942f27",
   "metadata": {},
   "source": [
    "Now we load the nodes."
   ]
  },
  {
   "cell_type": "code",
   "execution_count": 24,
   "id": "bf3ce293-1cc1-4c37-9106-5907825baf94",
   "metadata": {},
   "outputs": [
    {
     "name": "stdout",
     "output_type": "stream",
     "text": [
      "Executing statement CREATE NODE TABLE OMDB_BUSINESS_CAST(cast_id STRING, roles STRING[], PRIMARY KEY (cast_id));\n",
      "\n",
      "Executing statement CREATE NODE TABLE OMDB_BUSINESS_CATEGORY(category_id INT64, parent_id INT64, root_id INT64, names STRUCT(name STRING, language_iso_639_1 STRING)[], PRIMARY KEY (category_id));\n",
      "\n",
      "Executing statement CREATE NODE TABLE OMDB_BUSINESS_CHARACTER(id INT64, name STRING, PRIMARY KEY (id));\n",
      "\n",
      "Executing statement CREATE NODE TABLE OMDB_BUSINESS_EPISODE(episode_id INT64, series_id INT64, season_id INT64, date DATE, content_type STRING, runtime INT64, revenue INT64, budget INT64, homepage STRING, vote_average FLOAT, votes_count INT64, last_update TIMESTAMP, countries STRING[],  abstracts STRUCT(abstract STRING, language_iso_639_1 STRING)[], content_links STRUCT(source STRING, key STRING, language_iso_639_1 STRING)[], refs STRUCT(type STRING, referenced_id INT64)[], trailers STRUCT(source STRING, key STRING, language_iso_639_1 STRING)[], aliasings STRUCT(name STRING, language_iso_639_1 STRING)[], PRIMARY KEY (episode_id));\n",
      "\n",
      "Executing statement CREATE NODE TABLE OMDB_BUSINESS_IMAGE(image_id INT64, object_id INT64, object_type STRING, image_version INT32, license_id INT64, source STRING, author STRING, PRIMARY KEY (image_id));\n",
      "\n",
      "Executing statement CREATE NODE TABLE OMDB_BUSINESS_JOB(job_id INT64, names STRUCT(name STRING, language_iso_639_1 STRING)[], PRIMARY KEY (job_id));\n",
      "\n",
      "Executing statement CREATE NODE TABLE OMDB_BUSINESS_MOVIE(movie_id INT64, movieseries_id INT64, date DATE, content_type STRING, runtime INT64, revenue INT64, budget INT64, homepage STRING, vote_average FLOAT, votes_count INT64, last_update TIMESTAMP, countries STRING[],  abstracts STRUCT(abstract STRING, language_iso_639_1 STRING)[], content_links STRUCT(source STRING, key STRING, language_iso_639_1 STRING)[], refs STRUCT(type STRING, referenced_id INT64)[], trailers STRUCT(source STRING, key STRING, language_iso_639_1 STRING)[], aliasings STRUCT(name STRING, language_iso_639_1 STRING)[], PRIMARY KEY (movie_id));\n",
      "\n",
      "Executing statement CREATE NODE TABLE OMDB_BUSINESS_MOVIESERIES(movieseries_id INT64, date DATE, content_type STRING, runtime INT64, revenue INT64, budget INT64, homepage STRING, vote_average FLOAT, votes_count INT64, last_update TIMESTAMP, countries STRING[],  abstracts STRUCT(abstract STRING, language_iso_639_1 STRING)[], content_links STRUCT(source STRING, key STRING, language_iso_639_1 STRING)[], refs STRUCT(type STRING, referenced_id INT64)[], trailers STRUCT(source STRING, key STRING, language_iso_639_1 STRING)[], aliasings STRUCT(name STRING, language_iso_639_1 STRING)[], PRIMARY KEY (movieseries_id));\n",
      "\n",
      "Executing statement CREATE NODE TABLE OMDB_BUSINESS_PERSON(person_id INT64, name STRING, birthday DATE, deathday DATE, gender STRING, aliases STRING[], PRIMARY KEY (person_id));\n",
      "\n",
      "Executing statement CREATE NODE TABLE OMDB_BUSINESS_SEASON(season_id INT64, series_id INT64, date DATE, content_type STRING, runtime INT64, revenue INT64, budget INT64, homepage STRING, vote_average FLOAT, votes_count INT64, last_update TIMESTAMP, countries STRING[],  abstracts STRUCT(abstract STRING, language_iso_639_1 STRING)[], content_links STRUCT(source STRING, key STRING, language_iso_639_1 STRING)[], refs STRUCT(type STRING, referenced_id INT64)[], trailers STRUCT(source STRING, key STRING, language_iso_639_1 STRING)[], aliasings STRUCT(name STRING, language_iso_639_1 STRING)[], PRIMARY KEY (season_id));\n",
      "\n",
      "Executing statement CREATE NODE TABLE OMDB_BUSINESS_SERIEST(series_id INT64, movieseries_id INT64, date DATE, content_type STRING, runtime INT64, revenue INT64, budget INT64, homepage STRING, vote_average FLOAT, votes_count INT64, last_update TIMESTAMP, countries STRING[],  abstracts STRUCT(abstract STRING, language_iso_639_1 STRING)[], content_links STRUCT(source STRING, key STRING, language_iso_639_1 STRING)[], refs STRUCT(type STRING, referenced_id INT64)[], trailers STRUCT(source STRING, key STRING, language_iso_639_1 STRING)[], aliasings STRUCT(name STRING, language_iso_639_1 STRING)[], PRIMARY KEY (series_id));\n",
      "Executing statement COPY OMDB_BUSINESS_CAST FROM \"./export_elt/gold_business_graph_node_cast.parquet\"\n",
      "\n",
      "Executing statement COPY OMDB_BUSINESS_CATEGORY FROM \"./export_elt/gold_business_graph_node_category.parquet\"\n",
      "\n"
     ]
    },
    {
     "ename": "RuntimeError",
     "evalue": "Conversion exception: Cast failed. {\"(Genre,de)\",\"(Genre,fr)\",\"(Gatunek,pl)\",\"(Género,es)\",\"(Genre,en)\"} is not in STRUCT(name STRING, language_iso_639_1 STRING)[] range.",
     "output_type": "error",
     "traceback": [
      "\u001b[1;31m---------------------------------------------------------------------------\u001b[0m",
      "\u001b[1;31mRuntimeError\u001b[0m                              Traceback (most recent call last)",
      "Cell \u001b[1;32mIn[24], line 17\u001b[0m\n\u001b[0;32m     15\u001b[0m \u001b[38;5;28;01mfor\u001b[39;00m line \u001b[38;5;129;01min\u001b[39;00m import_lines:\n\u001b[0;32m     16\u001b[0m     \u001b[38;5;28mprint\u001b[39m(\u001b[38;5;124mf\u001b[39m\u001b[38;5;124m\"\u001b[39m\u001b[38;5;124mExecuting statement \u001b[39m\u001b[38;5;132;01m{\u001b[39;00mline\u001b[38;5;132;01m}\u001b[39;00m\u001b[38;5;124m\"\u001b[39m)\n\u001b[1;32m---> 17\u001b[0m     \u001b[43mconn\u001b[49m\u001b[38;5;241;43m.\u001b[39;49m\u001b[43mexecute\u001b[49m\u001b[43m(\u001b[49m\u001b[43mline\u001b[49m\u001b[43m)\u001b[49m\n",
      "File \u001b[1;32mc:\\work\\omdb_graphdb_article\\.venv\\Lib\\site-packages\\kuzu\\connection.py:130\u001b[0m, in \u001b[0;36mConnection.execute\u001b[1;34m(self, query, parameters)\u001b[0m\n\u001b[0;32m    127\u001b[0m     \u001b[38;5;28;01mraise\u001b[39;00m \u001b[38;5;167;01mRuntimeError\u001b[39;00m(msg)  \u001b[38;5;66;03m# noqa: TRY004\u001b[39;00m\n\u001b[0;32m    129\u001b[0m \u001b[38;5;28;01mif\u001b[39;00m \u001b[38;5;28mlen\u001b[39m(parameters) \u001b[38;5;241m==\u001b[39m \u001b[38;5;241m0\u001b[39m:\n\u001b[1;32m--> 130\u001b[0m     _query_result \u001b[38;5;241m=\u001b[39m \u001b[38;5;28;43mself\u001b[39;49m\u001b[38;5;241;43m.\u001b[39;49m\u001b[43m_connection\u001b[49m\u001b[38;5;241;43m.\u001b[39;49m\u001b[43mquery\u001b[49m\u001b[43m(\u001b[49m\u001b[43mquery\u001b[49m\u001b[43m)\u001b[49m\n\u001b[0;32m    131\u001b[0m \u001b[38;5;28;01melse\u001b[39;00m:\n\u001b[0;32m    132\u001b[0m     prepared_statement \u001b[38;5;241m=\u001b[39m \u001b[38;5;28mself\u001b[39m\u001b[38;5;241m.\u001b[39mprepare(query) \u001b[38;5;28;01mif\u001b[39;00m \u001b[38;5;28misinstance\u001b[39m(query, \u001b[38;5;28mstr\u001b[39m) \u001b[38;5;28;01melse\u001b[39;00m query\n",
      "\u001b[1;31mRuntimeError\u001b[0m: Conversion exception: Cast failed. {\"(Genre,de)\",\"(Genre,fr)\",\"(Gatunek,pl)\",\"(Género,es)\",\"(Genre,en)\"} is not in STRUCT(name STRING, language_iso_639_1 STRING)[] range."
     ]
    }
   ],
   "source": [
    "with open('dml_statements/elt_kuzudb_node_schema.sql') as f:\n",
    "    creation_lines = [line for line in f]\n",
    "\n",
    "with open('dml_statements/elt_kuzudb_node_import.sql') as f:\n",
    "    import_lines = [line for line in f]\n",
    "    \n",
    "\n",
    "#do not forget the primary keys for seeds\n",
    "\n",
    "    \n",
    "for line in creation_lines:\n",
    "    print(f\"Executing statement {line}\")\n",
    "    conn.execute(line)\n",
    "\n",
    "for line in import_lines:\n",
    "    print(f\"Executing statement {line}\")\n",
    "    conn.execute(line)"
   ]
  },
  {
   "cell_type": "markdown",
   "id": "e45b6919-9c52-4313-bd17-880da51c91f9",
   "metadata": {},
   "source": [
    "Now we load the relationships."
   ]
  },
  {
   "cell_type": "code",
   "execution_count": 5,
   "id": "f5ffe483-6d78-40ef-b278-3568445bde6c",
   "metadata": {},
   "outputs": [
    {
     "name": "stdout",
     "output_type": "stream",
     "text": [
      "Executing statement CREATE REL TABLE HAS_ATTRIBUTE(FROM IMDB_TITLE_AKAS TO IMDB_ATTRIBUTE);\n",
      "\n",
      "Executing statement CREATE REL TABLE HAS_CHARACTER(FROM IMDB_TITLE_PRINCIPAL TO IMDB_CHARACTER);\n",
      "\n",
      "Executing statement CREATE REL TABLE HAS_DIRECTOR(FROM IMDB_TITLE_BASICS TO IMDB_NAME_BASICS);\n",
      "\n",
      "Executing statement CREATE REL TABLE HAS_DISTRIBUTION_TYPE(FROM IMDB_TITLE_AKAS TO IMDB_DISTRIBUTION_TYPE);\n",
      "\n",
      "Executing statement CREATE REL TABLE HAS_LANGUAGE(FROM IMDB_TITLE_AKAS TO IMDB_LANGUAGE_CODE);\n",
      "\n",
      "Executing statement CREATE REL TABLE HAS_GENRE(FROM IMDB_TITLE_BASICS TO IMDB_GENRE);\n",
      "\n",
      "Executing statement CREATE REL TABLE HAS_JOB_CATEGORY(FROM IMDB_TITLE_PRINCIPAL TO IMDB_JOB_CATEGORY);\n",
      "\n",
      "Executing statement CREATE REL TABLE IS_KNOWN_FOR(FROM IMDB_NAME_BASICS TO IMDB_TITLE_BASICS);\n",
      "\n",
      "Executing statement CREATE REL TABLE HAS_NAME(FROM IMDB_TITLE_PRINCIPAL TO IMDB_NAME_BASICS);\n",
      "\n",
      "Executing statement CREATE REL TABLE HAS_ORIGINAL_TITLE(FROM IMDB_TITLE_AKAS TO IMDB_TITLE_BASICS);\n",
      "\n",
      "Executing statement CREATE REL TABLE HAS_PARENT_TITLE(FROM IMDB_TITLE_EPISODE TO IMDB_TITLE_BASICS);\n",
      "\n",
      "Executing statement CREATE REL TABLE HAS_PRIMARYPROFESSION(FROM IMDB_NAME_BASICS TO IMDB_PRIMARYPROFESSION);\n",
      "\n",
      "Executing statement CREATE REL TABLE HAS_RATING(FROM IMDB_TITLE_BASICS TO IMDB_TITLE_RATING);\n",
      "\n",
      "Executing statement CREATE REL TABLE HAS_REGION(FROM IMDB_TITLE_AKAS TO IMDB_REGION_CODE);\n",
      "\n",
      "Executing statement CREATE REL TABLE IS_TITLE_TYPE(FROM IMDB_TITLE_EPISODE TO IMDB_TITLE_BASICS);\n",
      "\n",
      "Executing statement CREATE REL TABLE HAS_TITLE_TYPE(FROM IMDB_TITLE_BASICS TO IMDB_TITLE_TYPE);\n",
      "\n",
      "Executing statement CREATE REL TABLE WORKS_FOR(FROM IMDB_TITLE_PRINCIPAL TO IMDB_TITLE_BASICS);\n",
      "\n",
      "Executing statement CREATE REL TABLE IS_WRITTEN_BY(FROM IMDB_TITLE_BASICS TO IMDB_NAME_BASICS);\n",
      "Executing statement COPY HAS_ATTRIBUTE FROM \"export_elt/has_attribute_edge.parquet\"\n",
      "\n",
      "Executing statement COPY HAS_CHARACTER FROM \"export_elt/has_character_edge.parquet\"\n",
      "\n",
      "Executing statement COPY HAS_DIRECTOR FROM \"export_elt/has_director_edge.parquet\"\n",
      "\n",
      "Executing statement COPY HAS_DISTRIBUTION_TYPE FROM \"export_elt/has_distribution_type_edge.parquet\"\n",
      "\n",
      "Executing statement COPY HAS_LANGUAGE FROM \"export_elt/has_language_edge.parquet\"\n",
      "\n",
      "Executing statement COPY HAS_GENRE FROM \"export_elt/has_genre_edge.parquet\"\n",
      "\n",
      "Executing statement COPY HAS_JOB_CATEGORY FROM \"export_elt/has_job_category_edge.parquet\"\n",
      "\n",
      "Executing statement COPY IS_KNOWN_FOR FROM \"export_elt/is_known_for_edge.parquet\"\n",
      "\n",
      "Executing statement COPY HAS_NAME FROM \"export_elt/has_name_edge.parquet\"\n",
      "\n",
      "Executing statement COPY HAS_ORIGINAL_TITLE FROM \"export_elt/has_original_title_edge.parquet\"\n",
      "\n",
      "Executing statement COPY HAS_PARENT_TITLE FROM \"export_elt/has_parent_title_edge.parquet\"\n",
      "\n",
      "Executing statement COPY HAS_PRIMARYPROFESSION FROM \"export_elt/has_primaryprofession_edge.parquet\"\n",
      "\n",
      "Executing statement COPY HAS_RATING FROM \"export_elt/has_rating_edge.parquet\"\n",
      "\n",
      "Executing statement COPY HAS_REGION FROM \"export_elt/has_region_edge.parquet\"\n",
      "\n",
      "Executing statement COPY IS_TITLE_TYPE FROM \"export_elt/is_title_edge.parquet\"\n",
      "\n",
      "Executing statement COPY HAS_TITLE_TYPE FROM \"export_elt/has_title_type_edge.parquet\"\n",
      "\n",
      "Executing statement COPY WORKS_FOR FROM \"export_elt/works_for_edge.parquet\"\n",
      "\n",
      "Executing statement COPY IS_WRITTEN_BY FROM \"export_elt/is_written_by_edge.parquet\"\n",
      "CPU times: total: 7h 5min 43s\n",
      "Wall time: 1h 34min 51s\n"
     ]
    }
   ],
   "source": [
    "with open('dml_statements/elt_kuzudb_rel_schema.sql') as f:\n",
    "    creation_lines = [line for line in f]\n",
    "\n",
    "with open('dml_statements/elt_kuzudb_rel_import.sql') as f:\n",
    "    import_lines = [line for line in f]\n",
    "    \n",
    "\n",
    "#do not forget the primary keys for seeds\n",
    "\n",
    "    \n",
    "for line in creation_lines:\n",
    "    print(f\"Executing statement {line}\")\n",
    "    conn.execute(line)\n",
    "\n",
    "for line in import_lines:\n",
    "    print(f\"Executing statement {line}\")\n",
    "    conn.execute(line)"
   ]
  }
 ],
 "metadata": {
  "kernelspec": {
   "display_name": ".venv",
   "language": "python",
   "name": "python3"
  },
  "language_info": {
   "codemirror_mode": {
    "name": "ipython",
    "version": 3
   },
   "file_extension": ".py",
   "mimetype": "text/x-python",
   "name": "python",
   "nbconvert_exporter": "python",
   "pygments_lexer": "ipython3",
   "version": "3.12.7"
  }
 },
 "nbformat": 4,
 "nbformat_minor": 5
}
