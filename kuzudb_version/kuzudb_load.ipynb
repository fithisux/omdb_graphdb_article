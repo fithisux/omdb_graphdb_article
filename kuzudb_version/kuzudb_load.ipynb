{
 "cells": [
  {
   "cell_type": "markdown",
   "id": "5a885654-178b-48b6-963f-8406b2d629fd",
   "metadata": {},
   "source": [
    "We install here the required dependencies"
   ]
  },
  {
   "cell_type": "code",
   "execution_count": 1,
   "id": "452d403f-a92d-43aa-9e46-b2e4306e7304",
   "metadata": {},
   "outputs": [
    {
     "name": "stdout",
     "output_type": "stream",
     "text": [
      "Requirement already satisfied: kuzu in c:\\work\\omdb_graphdb_article\\.venv\\lib\\site-packages (0.6.1)\n"
     ]
    }
   ],
   "source": [
    "!python -m pip install kuzu"
   ]
  },
  {
   "cell_type": "code",
   "execution_count": 2,
   "id": "76d20366-e6dd-449e-b6d5-487dedb28d71",
   "metadata": {},
   "outputs": [],
   "source": [
    "import kuzu\n",
    "\n",
    "db = kuzu.Database('./kuzudb_elt')\n",
    "conn = kuzu.Connection(db)\n",
    "\n",
    "load_json_extension = \"\"\"\n",
    "INSTALL json;\n",
    "LOAD EXTENSION json;\n",
    "\"\"\"\n",
    "\n",
    "conn.execute(load_json_extension)\n",
    "\n",
    "conn.close()\n",
    "\n",
    "conn = kuzu.Connection(db)"
   ]
  },
  {
   "cell_type": "markdown",
   "id": "f0b5810d-bdcf-4e87-baae-115b23fae03f",
   "metadata": {},
   "source": [
    "Let's drop the old edges and then nodes (if they exist)"
   ]
  },
  {
   "cell_type": "code",
   "execution_count": 3,
   "id": "45c681d0-d593-4b91-a7d8-05c0a8bec979",
   "metadata": {},
   "outputs": [],
   "source": [
    "SHOW_EDGE_TABLES = \"\"\"\n",
    "CALL SHOW_TABLES() WHERE type='REL' RETURN *;\n",
    "\"\"\"\n",
    "result_set = conn.execute(SHOW_EDGE_TABLES)\n",
    "while result_set.has_next():\n",
    "    table_name = result_set.get_next()[0]\n",
    "    print(f\"DROPPING {table_name}\")\n",
    "    conn.execute(f\"DROP TABLE {table_name};\")\n",
    "\n",
    "result_set.close()\n",
    "\n",
    "SHOW_NODE_TABLES = \"\"\"\n",
    "CALL SHOW_TABLES() WHERE type='NODE' RETURN *;\n",
    "\"\"\"\n",
    "result_set = conn.execute(SHOW_NODE_TABLES)\n",
    "while result_set.has_next():\n",
    "    table_name = result_set.get_next()[0]\n",
    "    print(f\"DROPPING {table_name}\")\n",
    "    conn.execute(f\"DROP TABLE {table_name};\")\n",
    "\n",
    "result_set.close()"
   ]
  },
  {
   "cell_type": "markdown",
   "id": "22aa0b5d-4754-4742-b665-663148942f27",
   "metadata": {},
   "source": [
    "Now we load the nodes."
   ]
  },
  {
   "cell_type": "code",
   "execution_count": 4,
   "id": "bf3ce293-1cc1-4c37-9106-5907825baf94",
   "metadata": {},
   "outputs": [
    {
     "name": "stdout",
     "output_type": "stream",
     "text": [
      "Executing statement CREATE NODE TABLE OMDB_BUSINESS_CAST(cast_id STRING, roles STRING[], PRIMARY KEY (cast_id));\n",
      "\n",
      "Executing statement CREATE NODE TABLE OMDB_BUSINESS_CATEGORY(category_id INT64, parent_id INT64, root_id INT64, names STRUCT(name STRING, language_iso_639_1 STRING)[], PRIMARY KEY (category_id));\n",
      "\n",
      "Executing statement CREATE NODE TABLE OMDB_BUSINESS_CHARACTER(id INT64, name STRING, PRIMARY KEY (id));\n",
      "\n",
      "Executing statement CREATE NODE TABLE OMDB_BUSINESS_CONTENT(content_id INT64, date DATE, content_type STRING, runtime INT64, revenue INT64, budget INT64, homepage STRING, vote_average FLOAT, votes_count INT64, last_update TIMESTAMP, countries STRING[],  abstracts STRUCT(abstract STRING, language_iso_639_1 STRING)[], content_links STRUCT(source STRING, key STRING, language_iso_639_1 STRING)[], refs STRUCT(type STRING, referenced_id INT64)[], trailers STRUCT(source STRING, key STRING, language_iso_639_1 STRING)[], aliasings STRUCT(name STRING, language_iso_639_1 STRING)[], PRIMARY KEY (episode_id));\n",
      "\n"
     ]
    },
    {
     "ename": "RuntimeError",
     "evalue": "Binder exception: Primary key episode_id does not match any of the predefined node properties.",
     "output_type": "error",
     "traceback": [
      "\u001b[1;31m---------------------------------------------------------------------------\u001b[0m",
      "\u001b[1;31mRuntimeError\u001b[0m                              Traceback (most recent call last)",
      "Cell \u001b[1;32mIn[4], line 13\u001b[0m\n\u001b[0;32m     11\u001b[0m \u001b[38;5;28;01mfor\u001b[39;00m line \u001b[38;5;129;01min\u001b[39;00m creation_lines:\n\u001b[0;32m     12\u001b[0m     \u001b[38;5;28mprint\u001b[39m(\u001b[38;5;124mf\u001b[39m\u001b[38;5;124m\"\u001b[39m\u001b[38;5;124mExecuting statement \u001b[39m\u001b[38;5;132;01m{\u001b[39;00mline\u001b[38;5;132;01m}\u001b[39;00m\u001b[38;5;124m\"\u001b[39m)\n\u001b[1;32m---> 13\u001b[0m     \u001b[43mconn\u001b[49m\u001b[38;5;241;43m.\u001b[39;49m\u001b[43mexecute\u001b[49m\u001b[43m(\u001b[49m\u001b[43mline\u001b[49m\u001b[43m)\u001b[49m\n\u001b[0;32m     15\u001b[0m \u001b[38;5;28;01mfor\u001b[39;00m line \u001b[38;5;129;01min\u001b[39;00m import_lines:\n\u001b[0;32m     16\u001b[0m     \u001b[38;5;28mprint\u001b[39m(\u001b[38;5;124mf\u001b[39m\u001b[38;5;124m\"\u001b[39m\u001b[38;5;124mExecuting statement \u001b[39m\u001b[38;5;132;01m{\u001b[39;00mline\u001b[38;5;132;01m}\u001b[39;00m\u001b[38;5;124m\"\u001b[39m)\n",
      "File \u001b[1;32mc:\\work\\omdb_graphdb_article\\.venv\\Lib\\site-packages\\kuzu\\connection.py:130\u001b[0m, in \u001b[0;36mConnection.execute\u001b[1;34m(self, query, parameters)\u001b[0m\n\u001b[0;32m    127\u001b[0m     \u001b[38;5;28;01mraise\u001b[39;00m \u001b[38;5;167;01mRuntimeError\u001b[39;00m(msg)  \u001b[38;5;66;03m# noqa: TRY004\u001b[39;00m\n\u001b[0;32m    129\u001b[0m \u001b[38;5;28;01mif\u001b[39;00m \u001b[38;5;28mlen\u001b[39m(parameters) \u001b[38;5;241m==\u001b[39m \u001b[38;5;241m0\u001b[39m:\n\u001b[1;32m--> 130\u001b[0m     _query_result \u001b[38;5;241m=\u001b[39m \u001b[38;5;28;43mself\u001b[39;49m\u001b[38;5;241;43m.\u001b[39;49m\u001b[43m_connection\u001b[49m\u001b[38;5;241;43m.\u001b[39;49m\u001b[43mquery\u001b[49m\u001b[43m(\u001b[49m\u001b[43mquery\u001b[49m\u001b[43m)\u001b[49m\n\u001b[0;32m    131\u001b[0m \u001b[38;5;28;01melse\u001b[39;00m:\n\u001b[0;32m    132\u001b[0m     prepared_statement \u001b[38;5;241m=\u001b[39m \u001b[38;5;28mself\u001b[39m\u001b[38;5;241m.\u001b[39mprepare(query) \u001b[38;5;28;01mif\u001b[39;00m \u001b[38;5;28misinstance\u001b[39m(query, \u001b[38;5;28mstr\u001b[39m) \u001b[38;5;28;01melse\u001b[39;00m query\n",
      "\u001b[1;31mRuntimeError\u001b[0m: Binder exception: Primary key episode_id does not match any of the predefined node properties."
     ]
    }
   ],
   "source": [
    "with open('dml_statements/elt_kuzudb_node_schema.sql') as f:\n",
    "    creation_lines = [line for line in f]\n",
    "\n",
    "with open('dml_statements/elt_kuzudb_node_import.sql') as f:\n",
    "    import_lines = [line for line in f]\n",
    "    \n",
    "\n",
    "#do not forget the primary keys for seeds\n",
    "\n",
    "    \n",
    "for line in creation_lines:\n",
    "    print(f\"Executing statement {line}\")\n",
    "    conn.execute(line)\n",
    "\n",
    "for line in import_lines:\n",
    "    print(f\"Executing statement {line}\")\n",
    "    conn.execute(line)"
   ]
  },
  {
   "cell_type": "markdown",
   "id": "e45b6919-9c52-4313-bd17-880da51c91f9",
   "metadata": {},
   "source": [
    "Now we load the relationships."
   ]
  },
  {
   "cell_type": "code",
   "execution_count": 11,
   "id": "f5ffe483-6d78-40ef-b278-3568445bde6c",
   "metadata": {},
   "outputs": [
    {
     "name": "stdout",
     "output_type": "stream",
     "text": [
      "Executing statement CREATE REL TABLE OMDB_BUSINESS_CATEGORY_HAS_PARENT(FROM OMDB_BUSINESS_CATEGORY TO OMDB_BUSINESS_CATEGORY);\n",
      "\n",
      "Executing statement CREATE REL TABLE OMDB_BUSINESS_CATEGORY_HAS_ROOT(FROM OMDB_BUSINESS_CATEGORY TO OMDB_BUSINESS_CATEGORY);\n",
      "\n",
      "Executing statement CREATE REL TABLE OMDB_BUSINESS_EPISODE_HAS_CAST(FROM OMDB_BUSINESS_EPISODE TO OMDB_BUSINESS_CAST);\n",
      "\n",
      "Executing statement CREATE REL TABLE OMDB_BUSINESS_EPISODE_HAS_CATEGORY(FROM OMDB_BUSINESS_EPISODE TO OMDB_BUSINESS_CATEGORY);\n",
      "\n",
      "Executing statement CREATE REL TABLE OMDB_BUSINESS_EPISODE_HAS_KEYWORD(FROM OMDB_BUSINESS_EPISODE TO OMDB_BUSINESS_CATEGORY);\n",
      "\n",
      "Executing statement CREATE REL TABLE OMDB_BUSINESS_EPISODE_HAS_SEASON(FROM OMDB_BUSINESS_EPISODE TO OMDB_BUSINESS_SEASON);\n",
      "\n",
      "Executing statement CREATE REL TABLE OMDB_BUSINESS_EPISODE_HAS_SERIES(FROM OMDB_BUSINESS_EPISODE TO OMDB_BUSINESS_SERIES);\n",
      "\n",
      "Executing statement CREATE REL TABLE OMDB_BUSINESS_MOVIE_HAS_CAST(FROM OMDB_BUSINESS_MOVIE TO OMDB_BUSINESS_CAST);\n",
      "\n",
      "Executing statement CREATE REL TABLE OMDB_BUSINESS_MOVIE_HAS_CATEGORY(FROM OMDB_BUSINESS_MOVIE TO OMDB_BUSINESS_CATEGORY);\n",
      "\n",
      "Executing statement CREATE REL TABLE OMDB_BUSINESS_MOVIE_HAS_KEYWORD(FROM OMDB_BUSINESS_MOVIE TO OMDB_BUSINESS_CATEGORY);\n",
      "\n",
      "Executing statement CREATE REL TABLE OMDB_BUSINESS_MOVIE_HAS_MOVIESERIES(FROM OMDB_BUSINESS_MOVIE TO OMDB_BUSINESS_MOVIESERIES);\n",
      "\n",
      "Executing statement CREATE REL TABLE OMDB_BUSINESS_MOVIESERIES_HAS_CAST(FROM OMDB_BUSINESS_MOVIESERIES TO OMDB_BUSINESS_CAST);\n",
      "\n",
      "Executing statement CREATE REL TABLE OMDB_BUSINESS_MOVIESERIES_HAS_CATEGORY(FROM OMDB_BUSINESS_MOVIESERIES TO OMDB_BUSINESS_CATEGORY);\n",
      "\n",
      "Executing statement CREATE REL TABLE OMDB_BUSINESS_MOVIESERIES_HAS_KEYWORD(FROM OMDB_BUSINESS_MOVIESERIES TO OMDB_BUSINESS_CATEGORY);\n",
      "\n",
      "Executing statement CREATE REL TABLE OMDB_BUSINESS_PERSON_HAS_CAST(FROM OMDB_BUSINESS_PERSON TO OMDB_BUSINESS_CAST);\n",
      "\n",
      "Executing statement CREATE REL TABLE OMDB_BUSINESS_SEASON_HAS_CAST(FROM OMDB_BUSINESS_SEASON TO OMDB_BUSINESS_CAST);\n",
      "\n",
      "Executing statement CREATE REL TABLE OMDB_BUSINESS_SEASON_HAS_CATEGORY(FROM OMDB_BUSINESS_SEASON TO OMDB_BUSINESS_CATEGORY);\n",
      "\n",
      "Executing statement CREATE REL TABLE OMDB_BUSINESS_SEASON_HAS_KEYWORD(FROM OMDB_BUSINESS_SEASON TO OMDB_BUSINESS_CATEGORY);\n",
      "\n",
      "Executing statement CREATE REL TABLE OMDB_BUSINESS_SEASON_HAS_SERIES(FROM OMDB_BUSINESS_SEASON TO OMDB_BUSINESS_SERIES);\n",
      "\n",
      "Executing statement CREATE REL TABLE OMDB_BUSINESS_SERIES_HAS_CAST(FROM OMDB_BUSINESS_SERIES TO OMDB_BUSINESS_CAST);\n",
      "\n",
      "Executing statement CREATE REL TABLE OMDB_BUSINESS_SERIES_HAS_CATEGORY(FROM OMDB_BUSINESS_SERIES TO OMDB_BUSINESS_CATEGORY);\n",
      "\n",
      "Executing statement CREATE REL TABLE OMDB_BUSINESS_SERIES_HAS_KEYWORD(FROM OMDB_BUSINESS_SERIES TO OMDB_BUSINESS_CATEGORY);\n",
      "\n",
      "Executing statement CREATE REL TABLE OMDB_BUSINESS_SERIES_HAS_MOVIESERIES(FROM OMDB_BUSINESS_SERIES TO OMDB_BUSINESS_MOVIESERIES);\n",
      "Executing statement COPY OMDB_BUSINESS_CATEGORY_HAS_PARENT FROM \"./export_elt/gold_business_graph_edge_category_has_parent.json\"\n",
      "\n"
     ]
    },
    {
     "ename": "RuntimeError",
     "evalue": "Runtime exception: Found NULL, which violates the non-null constraint of the primary key column.",
     "output_type": "error",
     "traceback": [
      "\u001b[1;31m---------------------------------------------------------------------------\u001b[0m",
      "\u001b[1;31mRuntimeError\u001b[0m                              Traceback (most recent call last)",
      "Cell \u001b[1;32mIn[11], line 17\u001b[0m\n\u001b[0;32m     15\u001b[0m \u001b[38;5;28;01mfor\u001b[39;00m line \u001b[38;5;129;01min\u001b[39;00m import_lines:\n\u001b[0;32m     16\u001b[0m     \u001b[38;5;28mprint\u001b[39m(\u001b[38;5;124mf\u001b[39m\u001b[38;5;124m\"\u001b[39m\u001b[38;5;124mExecuting statement \u001b[39m\u001b[38;5;132;01m{\u001b[39;00mline\u001b[38;5;132;01m}\u001b[39;00m\u001b[38;5;124m\"\u001b[39m)\n\u001b[1;32m---> 17\u001b[0m     \u001b[43mconn\u001b[49m\u001b[38;5;241;43m.\u001b[39;49m\u001b[43mexecute\u001b[49m\u001b[43m(\u001b[49m\u001b[43mline\u001b[49m\u001b[43m)\u001b[49m\n",
      "File \u001b[1;32mc:\\work\\omdb_graphdb_article\\.venv\\Lib\\site-packages\\kuzu\\connection.py:130\u001b[0m, in \u001b[0;36mConnection.execute\u001b[1;34m(self, query, parameters)\u001b[0m\n\u001b[0;32m    127\u001b[0m     \u001b[38;5;28;01mraise\u001b[39;00m \u001b[38;5;167;01mRuntimeError\u001b[39;00m(msg)  \u001b[38;5;66;03m# noqa: TRY004\u001b[39;00m\n\u001b[0;32m    129\u001b[0m \u001b[38;5;28;01mif\u001b[39;00m \u001b[38;5;28mlen\u001b[39m(parameters) \u001b[38;5;241m==\u001b[39m \u001b[38;5;241m0\u001b[39m:\n\u001b[1;32m--> 130\u001b[0m     _query_result \u001b[38;5;241m=\u001b[39m \u001b[38;5;28;43mself\u001b[39;49m\u001b[38;5;241;43m.\u001b[39;49m\u001b[43m_connection\u001b[49m\u001b[38;5;241;43m.\u001b[39;49m\u001b[43mquery\u001b[49m\u001b[43m(\u001b[49m\u001b[43mquery\u001b[49m\u001b[43m)\u001b[49m\n\u001b[0;32m    131\u001b[0m \u001b[38;5;28;01melse\u001b[39;00m:\n\u001b[0;32m    132\u001b[0m     prepared_statement \u001b[38;5;241m=\u001b[39m \u001b[38;5;28mself\u001b[39m\u001b[38;5;241m.\u001b[39mprepare(query) \u001b[38;5;28;01mif\u001b[39;00m \u001b[38;5;28misinstance\u001b[39m(query, \u001b[38;5;28mstr\u001b[39m) \u001b[38;5;28;01melse\u001b[39;00m query\n",
      "\u001b[1;31mRuntimeError\u001b[0m: Runtime exception: Found NULL, which violates the non-null constraint of the primary key column."
     ]
    },
    {
     "ename": "",
     "evalue": "",
     "output_type": "error",
     "traceback": [
      "\u001b[1;31mThe Kernel crashed while executing code in the current cell or a previous cell. \n",
      "\u001b[1;31mPlease review the code in the cell(s) to identify a possible cause of the failure. \n",
      "\u001b[1;31mClick <a href='https://aka.ms/vscodeJupyterKernelCrash'>here</a> for more info. \n",
      "\u001b[1;31mView Jupyter <a href='command:jupyter.viewOutput'>log</a> for further details."
     ]
    }
   ],
   "source": [
    "with open('dml_statements/elt_kuzudb_rel_schema.sql') as f:\n",
    "    creation_lines = [line for line in f]\n",
    "\n",
    "with open('dml_statements/elt_kuzudb_rel_import.sql') as f:\n",
    "    import_lines = [line for line in f]\n",
    "    \n",
    "\n",
    "#do not forget the primary keys for seeds\n",
    "\n",
    "    \n",
    "for line in creation_lines:\n",
    "    print(f\"Executing statement {line}\")\n",
    "    conn.execute(line)\n",
    "\n",
    "for line in import_lines:\n",
    "    print(f\"Executing statement {line}\")\n",
    "    conn.execute(line)"
   ]
  }
 ],
 "metadata": {
  "kernelspec": {
   "display_name": ".venv",
   "language": "python",
   "name": "python3"
  },
  "language_info": {
   "codemirror_mode": {
    "name": "ipython",
    "version": 3
   },
   "file_extension": ".py",
   "mimetype": "text/x-python",
   "name": "python",
   "nbconvert_exporter": "python",
   "pygments_lexer": "ipython3",
   "version": "3.12.7"
  }
 },
 "nbformat": 4,
 "nbformat_minor": 5
}
